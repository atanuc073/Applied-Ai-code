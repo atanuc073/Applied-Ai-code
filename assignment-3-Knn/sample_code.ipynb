{
 "cells": [
  {
   "cell_type": "code",
   "execution_count": 6,
   "metadata": {},
   "outputs": [],
   "source": [
    "%matplotlib inline\n",
    "import warnings\n",
    "warnings.filterwarnings('ignore')"
   ]
  },
  {
   "cell_type": "code",
   "execution_count": 1,
   "metadata": {},
   "outputs": [
    {
     "data": {
      "text/html": [
       "<div>\n",
       "<style scoped>\n",
       "    .dataframe tbody tr th:only-of-type {\n",
       "        vertical-align: middle;\n",
       "    }\n",
       "\n",
       "    .dataframe tbody tr th {\n",
       "        vertical-align: top;\n",
       "    }\n",
       "\n",
       "    .dataframe thead th {\n",
       "        text-align: right;\n",
       "    }\n",
       "</style>\n",
       "<table border=\"1\" class=\"dataframe\">\n",
       "  <thead>\n",
       "    <tr style=\"text-align: right;\">\n",
       "      <th></th>\n",
       "      <th>class</th>\n",
       "      <th>clean_text</th>\n",
       "    </tr>\n",
       "  </thead>\n",
       "  <tbody>\n",
       "    <tr>\n",
       "      <td>0</td>\n",
       "      <td>0</td>\n",
       "      <td>slow moving aimless movie distressed drifting ...</td>\n",
       "    </tr>\n",
       "    <tr>\n",
       "      <td>1</td>\n",
       "      <td>0</td>\n",
       "      <td>not sure lost flat characters audience nearly ...</td>\n",
       "    </tr>\n",
       "    <tr>\n",
       "      <td>2</td>\n",
       "      <td>0</td>\n",
       "      <td>attempting artiness black white clever camera ...</td>\n",
       "    </tr>\n",
       "    <tr>\n",
       "      <td>3</td>\n",
       "      <td>0</td>\n",
       "      <td>little music anything speak</td>\n",
       "    </tr>\n",
       "    <tr>\n",
       "      <td>4</td>\n",
       "      <td>1</td>\n",
       "      <td>best scene movie gerardo trying find song keep...</td>\n",
       "    </tr>\n",
       "  </tbody>\n",
       "</table>\n",
       "</div>"
      ],
      "text/plain": [
       "   class                                         clean_text\n",
       "0      0  slow moving aimless movie distressed drifting ...\n",
       "1      0  not sure lost flat characters audience nearly ...\n",
       "2      0  attempting artiness black white clever camera ...\n",
       "3      0                        little music anything speak\n",
       "4      1  best scene movie gerardo trying find song keep..."
      ]
     },
     "execution_count": 1,
     "metadata": {},
     "output_type": "execute_result"
    }
   ],
   "source": [
    "\n",
    "\n",
    "import pandas as pd\n",
    "data=pd.read_csv(\"imdb.txt\")\n",
    "data.head()"
   ]
  },
  {
   "cell_type": "code",
   "execution_count": 2,
   "metadata": {},
   "outputs": [
    {
     "data": {
      "text/html": [
       "<div>\n",
       "<style scoped>\n",
       "    .dataframe tbody tr th:only-of-type {\n",
       "        vertical-align: middle;\n",
       "    }\n",
       "\n",
       "    .dataframe tbody tr th {\n",
       "        vertical-align: top;\n",
       "    }\n",
       "\n",
       "    .dataframe thead th {\n",
       "        text-align: right;\n",
       "    }\n",
       "</style>\n",
       "<table border=\"1\" class=\"dataframe\">\n",
       "  <thead>\n",
       "    <tr style=\"text-align: right;\">\n",
       "      <th></th>\n",
       "      <th>clean_text</th>\n",
       "    </tr>\n",
       "    <tr>\n",
       "      <th>class</th>\n",
       "      <th></th>\n",
       "    </tr>\n",
       "  </thead>\n",
       "  <tbody>\n",
       "    <tr>\n",
       "      <td>0</td>\n",
       "      <td>362</td>\n",
       "    </tr>\n",
       "    <tr>\n",
       "      <td>1</td>\n",
       "      <td>384</td>\n",
       "    </tr>\n",
       "  </tbody>\n",
       "</table>\n",
       "</div>"
      ],
      "text/plain": [
       "       clean_text\n",
       "class            \n",
       "0             362\n",
       "1             384"
      ]
     },
     "execution_count": 2,
     "metadata": {},
     "output_type": "execute_result"
    }
   ],
   "source": [
    "data.groupby(\"class\").count()"
   ]
  },
  {
   "cell_type": "code",
   "execution_count": 3,
   "metadata": {},
   "outputs": [],
   "source": [
    "Y=data[\"class\"].values\n",
    "X=data[\"clean_text\"].values"
   ]
  },
  {
   "cell_type": "code",
   "execution_count": 4,
   "metadata": {},
   "outputs": [
    {
     "name": "stdout",
     "output_type": "stream",
     "text": [
      "(334,) (334,)\n",
      "(165,) (165,)\n",
      "(247,) (247,)\n",
      "====================================================================================================\n",
      "After vectorization\n",
      "(334, 1736) (334,)\n",
      "(165, 1736) (165,)\n",
      "(247, 1736) (247,)\n",
      "====================================================================================================\n",
      "YOU Should Not do something like this\n",
      "(334, 1736) (334,)\n",
      "(165, 1133) (165,)\n",
      "(247, 1163) (247,)\n",
      "NOTE: THE NUMBER OF COLUMNS IN EACH OF THE VECTOR WONT BE SAME\n"
     ]
    },
    {
     "name": "stderr",
     "output_type": "stream",
     "text": [
      "/home/atanuc73/anaconda3/lib/python3.7/site-packages/sklearn/feature_extraction/image.py:167: DeprecationWarning: `np.int` is a deprecated alias for the builtin `int`. To silence this warning, use `int` by itself. Doing this will not modify any behavior and is safe. When replacing `np.int`, you may wish to use e.g. `np.int64` or `np.int32` to specify the precision. If you wish to review your current use, check the release note link for additional information.\n",
      "Deprecated in NumPy 1.20; for more details and guidance: https://numpy.org/devdocs/release/1.20.0-notes.html#deprecations\n",
      "  dtype=np.int):\n"
     ]
    }
   ],
   "source": [
    "from sklearn.model_selection import train_test_split\n",
    "\n",
    "X_train,X_test,Y_train,Y_test=train_test_split(X,Y,test_size=0.33)\n",
    "X_train,X_cv,Y_train,Y_cv=train_test_split(X_train,Y_train,test_size=0.33)\n",
    "\n",
    "print(X_train.shape,Y_train.shape)\n",
    "print(X_cv.shape,Y_cv.shape)\n",
    "print(X_test.shape,Y_test.shape)\n",
    "\n",
    "print(\"=\"*100)\n",
    "\n",
    "from sklearn.feature_extraction.text import CountVectorizer\n",
    "vectorizer=CountVectorizer()\n",
    "vectorizer.fit(X_train)\n",
    "# we use the fitted CountVectorizer to convert the text to vector\n",
    "X_train_bow=vectorizer.transform(X_train)\n",
    "X_cv_bow=vectorizer.transform(X_cv)\n",
    "X_test_bow=vectorizer.transform(X_test)\n",
    "\n",
    "print(\"After vectorization\")\n",
    "print(X_train_bow.shape,Y_train.shape)\n",
    "print(X_cv_bow.shape,Y_cv.shape)\n",
    "print(X_test_bow.shape,Y_test.shape)\n",
    "print(\"=\"*100)\n",
    "\n",
    "print(\"YOU Should Not do something like this\")\n",
    "vectorizer=CountVectorizer()\n",
    "x_train_bow=vectorizer.fit_transform(X_train)\n",
    "x_cv_bow=vectorizer.fit_transform(X_cv)\n",
    "x_test_bow=vectorizer.fit_transform(X_test)\n",
    "\n",
    "\n",
    "print(x_train_bow.shape,Y_train.shape)\n",
    "print(x_cv_bow.shape,Y_cv.shape)\n",
    "print(x_test_bow.shape,Y_test.shape)\n",
    "print(\"NOTE: THE NUMBER OF COLUMNS IN EACH OF THE VECTOR WONT BE SAME\")\n",
    "\n"
   ]
  },
  {
   "cell_type": "code",
   "execution_count": 7,
   "metadata": {},
   "outputs": [
    {
     "data": {
      "text/plain": [
       "175"
      ]
     },
     "execution_count": 7,
     "metadata": {},
     "output_type": "execute_result"
    }
   ],
   "source": [
    "(Y_train==1).sum()"
   ]
  },
  {
   "cell_type": "markdown",
   "metadata": {},
   "source": [
    "<pre>\n",
    "<h2> <font color='red'>YOU SHOULD NOT DO LIKE THIS </font></h2>\n",
    "1.  <font color='red'>THE VOCABULARY SHOULD BUILT ONLY WITH THE WORDS OF TRAIN DATA</font>\n",
    "    vectorizer = CountVectorizer()\n",
    "    x_train_bow = vectorizer.fit_transform(X_train)\n",
    "    x_cv_bow = vectorizer.fit_transform(X_cv)\n",
    "    x_test_bow = vectorizer.fit_transform(X_test)\n",
    "    \n",
    "2.  <font color='red'>DATA LEAKAGE PROBLEM: IF WE DO LIKE THIS WE ARE LOOKING AT THE TEST DATA BEFORE MODELING</font>\n",
    "    vectorizer = CountVectorizer()\n",
    "    X_bow = vectorizer.fit_transfomr(X)\n",
    "    X_train, X_test, y_train, y_test = train_test_split(X_bow, Y, test_size=0.33)\n",
    "   \n",
    "3. <font color='red'>YOU SHOULD PASS THE PROBABILITY SCORES NOT THE PREDICTED VALUES</font>\n",
    "    y_pred =  neigh.predict(X)\n",
    "    roc_auc_score(y_ture,y_pred)\n",
    "\n",
    "\n",
    "</pre>"
   ]
  },
  {
   "cell_type": "markdown",
   "metadata": {},
   "source": [
    "<h2> <font color='red'>WHAT ARE THESE FUNCTIONS: FIT, TRANSFORM, FIT_TRANSFORM</font></h2>"
   ]
  },
  {
   "cell_type": "code",
   "execution_count": 8,
   "metadata": {},
   "outputs": [
    {
     "name": "stdout",
     "output_type": "stream",
     "text": [
      "{'abc': 0, 'def': 2, 'pqr': 4, 'cdf': 1, 'jkl': 3}\n",
      "==================================================\n",
      "['abc', 'cdf', 'def', 'jkl', 'pqr']\n",
      "[[1 0 1 0 1]\n",
      " [1 2 0 1 1]]\n"
     ]
    }
   ],
   "source": [
    "sentence = [\"abc def pqr\", \"abc pqr cdf jkl cdf\"]\n",
    "example = CountVectorizer()\n",
    "example.fit(sentence)\n",
    "# after this statement the example will build the vocabulary with all the unique words\n",
    "# you should call this function only after fit() \n",
    "print(example.vocabulary_)\n",
    "print(\"=\"*50)\n",
    "\n",
    "# to convert the sentance into numerical vectors, we will call transform()\n",
    "# the first feature name will corresponds to first column in transformed matrix\n",
    "# the 2nd feature name will corresponds to 2nd column in transformed matrix\n",
    "print(example.get_feature_names())\n",
    "print(example.transform(sentence).toarray())\n",
    "# \"abc\" will corresponds to first colum\n",
    "# \"cdf\" will corresponds to 2nd column"
   ]
  },
  {
   "cell_type": "markdown",
   "metadata": {},
   "source": [
    "<pre>\n",
    "\n",
    "When you do\n",
    "<i><font color='blue'>vec =  CountVectorizer()</font></i>\n",
    "\n",
    "then it will initiate the <i><font color='blue'>CountVectorizer</font></i> with default parameters.\n",
    "\n",
    "<i><font color='blue'>vec.fit(Train_text)</font></i>: Means that internally it is only learning the vocabulary of `Text` i.e. unique n-grams\n",
    "\n",
    "<i><font color='blue'>bag_of_words = vec.transform(Train_text)</font></i>: Means it is applying that learned parameters (vocabulary) to the data and thus giving you output i.e. words in Bag of words formate. \n",
    "\n",
    "Now, as you should know that the  <i>vocabulary(unique n-grams)</i> can be different for <i>Train Text</i> and <i>Test Text</i> thus they will give you different dimensional matrices for Train and Test. \n",
    "\n",
    "So what you should do is -  <i><font color='blue'>vec = CountVectorizer()</font></i>, <i><font color='blue'>vec.fit(Train_text)</font></i>\n",
    "\n",
    "which learns the vocabulary of <i>Train Text</i> and then apply or transform your both <i>Train Text</i> and <i>Test Text</i>  using that  \n",
    "learned vocabulary to ensure the same dimensions for both of them by doing -\n",
    "\n",
    "<i><font color='blue'>bag_of_words_train = vec.transform(Train_text)</font></i>\n",
    "and\n",
    "<i><font color='blue'>bag_of_words_test = vec.transform(Test_text)</font></i>\n",
    "\n",
    "\n",
    "so to conclude\n",
    "\n",
    "<i><font color='blue'>\n",
    "model =  CountVectorizer()\n",
    "model.fit(train_text)\n",
    "train_bow = model.transform(train_text)\n",
    "test_bow = model.transform(test_text) \n",
    "</font></i>\n",
    "\n",
    "or \n",
    "   \n",
    "<i><font color='blue'>\n",
    "model =  CountVectorizer()\n",
    "train_bow = model.fit_transform(train_text)\n",
    "test_bow = model.transform(test_text) \n",
    "</font></i>\n",
    "\n",
    "\n",
    "</pre>"
   ]
  },
  {
   "cell_type": "markdown",
   "metadata": {},
   "source": [
    "# Applying KNN"
   ]
  },
  {
   "cell_type": "markdown",
   "metadata": {},
   "source": [
    "# 1: Hyper parameter Tuning (YOU CAN FOLLOW ANY ONE OF THESE)"
   ]
  },
  {
   "cell_type": "markdown",
   "metadata": {},
   "source": [
    "## 1.1 Method 1: Simple for loop"
   ]
  },
  {
   "cell_type": "code",
   "execution_count": 9,
   "metadata": {},
   "outputs": [
    {
     "data": {
      "image/png": "[encoded data removed]",
      "text/plain": [
       "<Figure size 432x288 with 1 Axes>"
      ]
     },
     "metadata": {
      "needs_background": "light"
     },
     "output_type": "display_data"
    }
   ],
   "source": [
    "from sklearn.neighbors import KNeighborsClassifier\n",
    "from sklearn.metrics import roc_auc_score\n",
    "import matplotlib.pyplot as plt\n",
    "\n",
    "\"\"\"\n",
    "y_true : array, shape = [n_samples] or [n_samples, n_classes]\n",
    "True binary labels or binary label indicators.\n",
    "\n",
    "y_score : array, shape = [n_samples] or [n_samples, n_classes]\n",
    "Target scores, can either be probability estimates of the positive class, confidence values, or non-thresholded measure of\n",
    "decisions (as returned by “decision_function” on some classifiers). \n",
    "For binary y_true, y_score is supposed to be the score of the class with greater label.\n",
    "\n",
    "\"\"\"\n",
    "train_auc=[]\n",
    "cv_auc=[]\n",
    "K=[1,3,5,8,10,12,15,18,21,25,31,35,41,45,51]\n",
    "for i in K:\n",
    "    neigh=KNeighborsClassifier(n_neighbors=i)\n",
    "    neigh.fit(X_train_bow,Y_train)\n",
    "    # roc_auc_score(y_true, y_score) the 2nd parameter should be probability estimates of the positive class\n",
    "    # not the predicted outputs\n",
    "    Y_train_pred=neigh.predict_proba(X_train_bow)[:,1]\n",
    "    Y_cv_pred=neigh.predict_proba(X_cv_bow)[:,1]\n",
    "    \n",
    "    train_auc.append(roc_auc_score(Y_train,Y_train_pred))\n",
    "    cv_auc.append(roc_auc_score(Y_cv,Y_cv_pred))\n",
    "    \n",
    "plt.plot(K,train_auc,label=\"Train AUC\")\n",
    "plt.plot(K,cv_auc,label=\"CV AUC\")\n",
    "plt.legend()\n",
    "plt.xlabel(\"K : Hyperparameter\")\n",
    "plt.ylabel(\"AUC\")\n",
    "plt.title(\"Error Plots\")\n",
    "plt.show()"
   ]
  },
  {
   "cell_type": "markdown",
   "metadata": {},
   "source": [
    "## 1.2 Method 2: GridSearch or randomsearch"
   ]
  },
  {
   "cell_type": "code",
   "execution_count": 10,
   "metadata": {},
   "outputs": [
    {
     "data": {
      "image/png": "[encoded data removed]",
      "text/plain": [
       "<Figure size 432x288 with 1 Axes>"
      ]
     },
     "metadata": {
      "needs_background": "light"
     },
     "output_type": "display_data"
    }
   ],
   "source": [
    "from sklearn.model_selection import GridSearchCV\n",
    "\n",
    "neigh=KNeighborsClassifier()\n",
    "parameters={'n_neighbors':[1,3,5,8,10,12,15,18,21,25,31,35,41,45,51]}\n",
    "clf = GridSearchCV(neigh,parameters,cv=3,scoring=\"roc_auc\",return_train_score=True)\n",
    "clf.fit(X_train_bow,Y_train)\n",
    "\n",
    "train_auc=clf.cv_results_[\"mean_train_score\"]\n",
    "train_auc_std=clf.cv_results_[\"std_train_score\"]\n",
    "cv_auc=clf.cv_results_[\"mean_test_score\"]\n",
    "cv_auc_std=clf.cv_results_[\"std_test_score\"]\n",
    "plt.plot(K,train_auc,label=\"Train AUC\")\n",
    "plt.gca().fill_between(K,train_auc-train_auc_std,train_auc+train_auc_std,alpha=0.2,color=\"darkblue\")\n",
    "\n",
    "plt.plot(K,cv_auc,label=\"CV AUC\")\n",
    "plt.gca().fill_between(K,cv_auc-cv_auc_std,cv_auc+cv_auc_std,alpha=0.2,color=\"darkorange\")\n",
    "plt.legend()\n",
    "plt.xlabel(\"K : Hyperparameters\")\n",
    "plt.ylabel(\"AUC\")\n",
    "plt.title(\"Error Plots\")\n",
    "plt.show()"
   ]
  },
  {
   "cell_type": "code",
   "execution_count": 11,
   "metadata": {},
   "outputs": [],
   "source": [
    "# from the error plot we choose K such that, we will have maximum AUC on cv data and gap between the train and cv is less\n",
    "# Note: based on the method you use you might get different hyperparameter values as best one\n",
    "# so, you choose according to the method you choose, you use gridsearch if you are having more computing power and note it will take more time\n",
    "# if you increase the cv values in the GridSearchCV you will get more rebust results.\n",
    "#here we are choosing the best_k based on forloop results\n",
    "#here we are choosing the best_k based on forloop results\n",
    "\n",
    "best_k = 10\n"
   ]
  },
  {
   "cell_type": "markdown",
   "metadata": {},
   "source": [
    "# 2. Testing with Test data"
   ]
  },
  {
   "cell_type": "code",
   "execution_count": 12,
   "metadata": {},
   "outputs": [],
   "source": [
    "from sklearn.metrics import roc_curve,auc"
   ]
  },
  {
   "cell_type": "code",
   "execution_count": 13,
   "metadata": {},
   "outputs": [
    {
     "data": {
      "image/png": "[encoded data removed]",
      "text/plain": [
       "<Figure size 432x288 with 1 Axes>"
      ]
     },
     "metadata": {
      "needs_background": "light"
     },
     "output_type": "display_data"
    },
    {
     "name": "stdout",
     "output_type": "stream",
     "text": [
      "====================================================================================================\n",
      "Train Confusion Matrix\n",
      "[[148  11]\n",
      " [136  39]]\n",
      "Test confusion matrix\n",
      "[[103  13]\n",
      " [106  25]]\n"
     ]
    }
   ],
   "source": [
    "from sklearn.metrics import roc_curve,auc\n",
    "\n",
    "neigh=KNeighborsClassifier(n_neighbors=best_k)\n",
    "neigh.fit(X_train_bow,Y_train)\n",
    "# roc_auc_score(y_true, y_score) the 2nd parameter should be probability estimates of the positive class\n",
    "# not the predicted outputs\n",
    "train_fpr,train_tpr,thresholds=roc_curve(Y_train,neigh.predict_proba(X_train_bow)[:,1])\n",
    "test_fpr,test_tpr,thresholds=roc_curve(Y_test,neigh.predict_proba(X_test_bow)[:,1])\n",
    "\n",
    "plt.plot(train_fpr,train_tpr,label=\"train AUC = \"+str(auc(train_fpr, train_tpr)))\n",
    "plt.plot(test_fpr, test_tpr, label=\"test AUC =\"+str(auc(test_fpr, test_tpr)))\n",
    "plt.legend()\n",
    "plt.xlabel(\"K : Hyperparameters\")\n",
    "plt.ylabel(\"AUC\")\n",
    "plt.title(\"Error Plots\")\n",
    "plt.show()\n",
    "print(\"=\"*100)\n",
    "\n",
    "from sklearn.metrics import confusion_matrix\n",
    "print(\"Train Confusion Matrix\")\n",
    "print(confusion_matrix(Y_train,neigh.predict(X_train_bow)))\n",
    "print(\"Test confusion matrix\")\n",
    "print(confusion_matrix(Y_test, neigh.predict(X_test_bow)))\n",
    "\n",
    "\n"
   ]
  },
  {
   "cell_type": "markdown",
   "metadata": {},
   "source": [
    "<pre>\n",
    "\n",
    "<h3><font color='blue'>IF Your system is getting stuck when you are working with the Knn: <font color='green'>YOU NEED TO USE BATCH WISE PREDICTION</font></font></h3>\n",
    "\n",
    "neigh = KNeighborsClassifier(n_neighbors=i)\n",
    "neigh.fit(X_train_bow, y_train)\n",
    "\n",
    "# instead of predicting all the data points at a time, we will predict 1000 data points at a time\n",
    "# you might need to change this code as per requirement\n",
    "# please try to debug errors on your own, read the errors and try to understand it.\n",
    "# you should be able to resolve them on your own as you wrote that code :)\n",
    "# use as many print statements as possible and make sure whats happening in the code\n",
    "# read the documentation of functions and get the sense out of it\n",
    "\n",
    "y_train_pred = []\n",
    "for i in range(0, X_train.shape[0], 1000):\n",
    "    y_train_pred.extend(neigh.predict_proba(X_train_bow[i,i+1000])[:,1]) # this is a pseudo code\n",
    "\n",
    "y_cv_pred = []\n",
    "for i in range(0, X_cv.shape[0], 1000):\n",
    "    y_cv_pred.extend(neigh.predict_proba(X_cv_bow[i,i+1000])[:,1]) # this is a pseudo code\n",
    "    \n",
    "\n",
    "train_auc.append(roc_auc_score(y_train,y_train_pred))\n",
    "cv_auc.append(roc_auc_score(y_cv, y_cv_pred))\n",
    "\n",
    "\n",
    "</pre>"
   ]
  },
  {
   "cell_type": "markdown",
   "metadata": {},
   "source": [
    "# Working with word2vec"
   ]
  },
  {
   "cell_type": "markdown",
   "metadata": {},
   "source": [
    "## Preparing Reviews for gensim model"
   ]
  },
  {
   "cell_type": "code",
   "execution_count": 14,
   "metadata": {},
   "outputs": [],
   "source": [
    "i=0\n",
    "list_of_sentence_train=[]\n",
    "for sentence in X_train:\n",
    "    list_of_sentence_train.append(sentence.split())"
   ]
  },
  {
   "cell_type": "code",
   "execution_count": 15,
   "metadata": {},
   "outputs": [],
   "source": [
    "from gensim.models import Word2Vec\n",
    "from gensim.models import KeyedVectors\n",
    "\n",
    "# this line of code trains your w2v model on the give list of sentances\n",
    "w2v_model=Word2Vec(list_of_sentence_train,min_count=5,vector_size=100,workers=4)"
   ]
  },
  {
   "cell_type": "code",
   "execution_count": 16,
   "metadata": {},
   "outputs": [
    {
     "data": {
      "text/plain": [
       "{'movie': 0,\n",
       " 'not': 1,\n",
       " 'film': 2,\n",
       " 'bad': 3,\n",
       " 'one': 4,\n",
       " 'like': 5,\n",
       " 'good': 6,\n",
       " 'really': 7,\n",
       " 'acting': 8,\n",
       " 'time': 9,\n",
       " 'great': 10,\n",
       " 'see': 11,\n",
       " 'films': 12,\n",
       " 'characters': 13,\n",
       " 'well': 14,\n",
       " 'even': 15,\n",
       " 'no': 16,\n",
       " 'made': 17,\n",
       " 'plot': 18,\n",
       " 'watching': 19,\n",
       " 'character': 20,\n",
       " 'story': 21,\n",
       " 'movies': 22,\n",
       " 'would': 23,\n",
       " 'script': 24,\n",
       " 'much': 25,\n",
       " 'everything': 26,\n",
       " 'could': 27,\n",
       " 'way': 28,\n",
       " 'real': 29,\n",
       " 'every': 30,\n",
       " 'anyone': 31,\n",
       " 'cast': 32,\n",
       " 'ever': 33,\n",
       " 'also': 34,\n",
       " 'art': 35,\n",
       " 'funny': 36,\n",
       " 'awful': 37,\n",
       " 'work': 38,\n",
       " 'seen': 39,\n",
       " 'waste': 40,\n",
       " 'watch': 41,\n",
       " 'actors': 42,\n",
       " 'love': 43,\n",
       " 'going': 44,\n",
       " 'excellent': 45,\n",
       " 'performance': 46,\n",
       " 'nothing': 47,\n",
       " 'never': 48,\n",
       " 'dialogue': 49,\n",
       " 'think': 50,\n",
       " 'wonderful': 51,\n",
       " 'pretty': 52,\n",
       " 'sucked': 53,\n",
       " 'first': 54,\n",
       " 'people': 55,\n",
       " 'loved': 56,\n",
       " 'worst': 57,\n",
       " 'black': 58,\n",
       " 'life': 59,\n",
       " 'however': 60,\n",
       " 'best': 61,\n",
       " 'scenes': 62,\n",
       " 'years': 63,\n",
       " 'beautiful': 64,\n",
       " 'whole': 65,\n",
       " 'cinematography': 66,\n",
       " 'short': 67,\n",
       " 'camera': 68,\n",
       " 'many': 69,\n",
       " 'man': 70,\n",
       " 'actually': 71,\n",
       " 'give': 72,\n",
       " 'white': 73,\n",
       " 'done': 74,\n",
       " 'little': 75,\n",
       " 'simply': 76,\n",
       " 'almost': 77,\n",
       " 'recommend': 78,\n",
       " 'drama': 79,\n",
       " 'cheap': 80,\n",
       " 'lines': 81,\n",
       " 'found': 82,\n",
       " 'director': 83,\n",
       " 'though': 84,\n",
       " 'get': 85,\n",
       " 'part': 86,\n",
       " 'show': 87,\n",
       " 'make': 88,\n",
       " 'writing': 89,\n",
       " 'believe': 90,\n",
       " 'subtle': 91,\n",
       " 'series': 92,\n",
       " 'better': 93,\n",
       " 'written': 94,\n",
       " 'feeling': 95,\n",
       " 'use': 96,\n",
       " 'else': 97,\n",
       " 'everyone': 98,\n",
       " 'hitchcock': 99,\n",
       " 'mention': 100,\n",
       " 'worse': 101,\n",
       " 'understand': 102,\n",
       " 'style': 103,\n",
       " 'screen': 104,\n",
       " 'family': 105,\n",
       " 'world': 106,\n",
       " 'worth': 107,\n",
       " 'silent': 108,\n",
       " 'right': 109,\n",
       " 'thing': 110,\n",
       " 'mostly': 111,\n",
       " 'effects': 112,\n",
       " 'look': 113,\n",
       " 'know': 114,\n",
       " 'go': 115,\n",
       " 'editing': 116,\n",
       " 'thought': 117,\n",
       " 'end': 118,\n",
       " 'special': 119,\n",
       " 'watched': 120,\n",
       " 'job': 121,\n",
       " 'especially': 122,\n",
       " 'stupid': 123,\n",
       " 'old': 124,\n",
       " 'lot': 125,\n",
       " 'music': 126}"
      ]
     },
     "execution_count": 16,
     "metadata": {},
     "output_type": "execute_result"
    }
   ],
   "source": [
    "w2v_model.wv.key_to_index"
   ]
  },
  {
   "cell_type": "code",
   "execution_count": 17,
   "metadata": {},
   "outputs": [
    {
     "name": "stdout",
     "output_type": "stream",
     "text": [
      "Number of words that occured minimum 5 times  127\n",
      "Sample Words :  ['movie', 'not', 'film', 'bad', 'one', 'like', 'good', 'really', 'acting', 'time', 'great', 'see', 'films', 'characters', 'well', 'even', 'no', 'made', 'plot', 'watching', 'character', 'story', 'movies', 'would', 'script']\n"
     ]
    }
   ],
   "source": [
    "w2v_words=list(w2v_model.wv.key_to_index.keys())\n",
    "print(\"Number of words that occured minimum 5 times \",len(w2v_words))\n",
    "print(\"Sample Words : \",w2v_words[:25])\n"
   ]
  },
  {
   "cell_type": "markdown",
   "metadata": {},
   "source": [
    "# Converting Reviews into Numerical Vectors using W2V vectors"
   ]
  },
  {
   "cell_type": "markdown",
   "metadata": {},
   "source": [
    "## Algorithm: Avg W2V"
   ]
  },
  {
   "cell_type": "code",
   "execution_count": 18,
   "metadata": {},
   "outputs": [],
   "source": [
    "from tqdm import tqdm\n",
    "import numpy as np"
   ]
  },
  {
   "cell_type": "markdown",
   "metadata": {},
   "source": [
    "### Converting Train data text"
   ]
  },
  {
   "cell_type": "code",
   "execution_count": 24,
   "metadata": {},
   "outputs": [
    {
     "name": "stdout",
     "output_type": "stream",
     "text": [
      "['enjoyment', 'get', 'see', 'run', 'around', 'play', 'games', 'dangerous']\n"
     ]
    }
   ],
   "source": [
    "print(list_of_sentence_train[0])"
   ]
  },
  {
   "cell_type": "code",
   "execution_count": 31,
   "metadata": {},
   "outputs": [
    {
     "name": "stderr",
     "output_type": "stream",
     "text": [
      "100%|██████████| 334/334 [00:00<00:00, 4883.88it/s]"
     ]
    },
    {
     "name": "stdout",
     "output_type": "stream",
     "text": [
      "(334, 100)\n",
      "[ 9.61214164e-03  7.98301469e-03  3.92919220e-03  5.35141327e-03\n",
      "  3.39465024e-03 -4.69419349e-03 -2.11732855e-04  6.78361161e-03\n",
      " -6.18216186e-03 -1.17697159e-03  3.06036090e-04  4.65154322e-03\n",
      "  2.05931830e-03 -3.71024536e-03  4.40368464e-03 -5.01211733e-03\n",
      " -6.48606580e-03 -3.74626304e-03 -2.00622578e-03 -8.74747569e-03\n",
      " -1.11012446e-03 -3.23465827e-03 -3.56491806e-03 -5.72458899e-03\n",
      " -5.82602218e-03 -1.59242423e-03 -6.92263944e-04  6.02453458e-03\n",
      "  2.60803266e-03 -3.92688402e-03 -1.12176780e-03  1.30036939e-03\n",
      "  5.20961563e-03  2.69722035e-03  1.47193381e-03  3.88178846e-03\n",
      " -1.76126699e-03 -2.64150203e-03 -4.22110887e-03 -5.99564984e-03\n",
      " -9.85992840e-04  2.86159309e-03  2.84960668e-04 -7.62995565e-04\n",
      " -2.66289013e-03 -5.02753432e-03  2.37773638e-04  8.32102829e-04\n",
      "  5.66343777e-04  1.73571752e-03 -2.35750654e-03 -2.84678046e-03\n",
      "  3.69364262e-03  2.50853493e-03  3.43987020e-04 -8.24632451e-04\n",
      " -4.31250350e-03  5.78446779e-03  2.68568459e-03 -4.21967334e-03\n",
      "  5.16400184e-03  2.83425313e-03 -5.21833193e-04 -2.04171368e-03\n",
      " -1.69434119e-04  8.15173984e-03  8.36217357e-03  1.17694936e-03\n",
      " -4.61642931e-03 -7.30543048e-04 -6.44394662e-03  3.44081013e-03\n",
      "  7.72953499e-05 -3.82110011e-04  3.44277208e-03  1.52483489e-03\n",
      " -2.56771932e-03  2.73512839e-03 -3.34289623e-04  6.57174736e-04\n",
      "  3.74813168e-03  6.80423121e-03 -5.95754571e-03  2.06285645e-03\n",
      "  5.39263990e-03  3.49153597e-04  2.47802166e-03 -5.01456647e-03\n",
      "  7.32708327e-03 -3.84802232e-04  5.14431344e-03  3.31605272e-03\n",
      " -8.61062761e-03  3.28970060e-03  6.98661897e-03 -5.34962723e-03\n",
      " -7.43700075e-03 -3.64098710e-03 -3.99950310e-04 -4.12629102e-04]\n"
     ]
    },
    {
     "name": "stderr",
     "output_type": "stream",
     "text": [
      "\n"
     ]
    }
   ],
   "source": [
    "# Average Word2vec\n",
    "#compute average word2vec for each Review\n",
    "sent_vectors=[];# the avg-w2v for each sentence/review is stored in this list\n",
    "for sent in tqdm(list_of_sentence_train):# for each review/sentence\n",
    "    sent_vec=np.zeros(100)# as word vectors are of zero length 50, you might need to change this to 300 if you use google's w2v\n",
    "    cnt_words=0# num of words with a valid vector in the sentence/review\n",
    "    for word in sent:# for each word in a review/sentence\n",
    "        if word in w2v_words:\n",
    "            vec=w2v_model.wv[word]\n",
    "            sent_vec+=vec\n",
    "            cnt_words+=1\n",
    "    if cnt_words!=0:\n",
    "        sent_vec /=cnt_words\n",
    "    sent_vectors.append(sent_vec)\n",
    "    sent_vectors_train=np.array(sent_vectors)\n",
    "print(sent_vectors_train.shape)\n",
    "print(sent_vectors[0])\n"
   ]
  },
  {
   "cell_type": "code",
   "execution_count": 28,
   "metadata": {},
   "outputs": [
    {
     "data": {
      "text/plain": [
       "(100,)"
      ]
     },
     "execution_count": 28,
     "metadata": {},
     "output_type": "execute_result"
    }
   ],
   "source": [
    "sent_vectors[0].shape"
   ]
  },
  {
   "cell_type": "markdown",
   "metadata": {},
   "source": [
    "### Converting CV data text"
   ]
  },
  {
   "cell_type": "code",
   "execution_count": 32,
   "metadata": {},
   "outputs": [],
   "source": [
    "i=0\n",
    "list_of_sentence_cv=[]\n",
    "for sentence in X_cv:\n",
    "    list_of_sentence_cv.append(sentence.split())"
   ]
  },
  {
   "cell_type": "code",
   "execution_count": 37,
   "metadata": {},
   "outputs": [
    {
     "name": "stderr",
     "output_type": "stream",
     "text": [
      "100%|██████████| 165/165 [00:00<00:00, 14763.95it/s]"
     ]
    },
    {
     "name": "stdout",
     "output_type": "stream",
     "text": [
      "(165, 100)\n",
      "[ 0.00711146 -0.0012305   0.00775599 -0.00997754 -0.00778478 -0.00748445\n",
      " -0.00339878  0.0065028  -0.00461228 -0.00904605  0.00800998 -0.0052014\n",
      "  0.00869688 -0.00415305  0.0042576   0.0046502   0.00224418 -0.00337836\n",
      "  0.0027266  -0.00965634 -0.00210791 -0.00225004  0.00770044 -0.00401162\n",
      " -0.00642116  0.00448732 -0.00058884 -0.00415219  0.00644631  0.00368275\n",
      " -0.00338184  0.00086696  0.00985487  0.00711211  0.00614052  0.00617031\n",
      "  0.0024883  -0.00192746 -0.00642972 -0.00125858 -0.00123534 -0.00104161\n",
      " -0.00664417  0.00753408 -0.00594429 -0.00725465 -0.00342665 -0.00184841\n",
      " -0.00726367  0.00088125 -0.00526473 -0.00188097 -0.00740161  0.00192401\n",
      "  0.00338047  0.00045234 -0.00532551 -0.00184876  0.00635746  0.00392661\n",
      " -0.00848589 -0.00351655  0.00260416  0.0023818  -0.0101205   0.0052735\n",
      " -0.00824705 -0.00660957  0.00273316 -0.0023193   0.00355235  0.00942172\n",
      " -0.00315752  0.00970486  0.00280983  0.01020364  0.0058752  -0.00918513\n",
      " -0.00365534  0.00682563  0.00521734  0.00869379  0.00611022  0.00869725\n",
      " -0.01045295  0.00421362 -0.0038729   0.00399506  0.00680394  0.00443878\n",
      "  0.00836989  0.00222317 -0.0009518   0.00599685 -0.00480067  0.00078754\n",
      "  0.00952361 -0.00588574  0.0041088  -0.00813309]\n"
     ]
    },
    {
     "name": "stderr",
     "output_type": "stream",
     "text": [
      "\n"
     ]
    }
   ],
   "source": [
    "#Average Word2Vec\n",
    "# Compute Average Word2Vec for Each Review\n",
    "sent_vectors_cv=[]# the avg-w2v for each sentence/review is stored in this list\n",
    "for sent in tqdm(list_of_sentence_cv):# for each review/sentence\n",
    "    sent_vec=np.zeros(100)# as word vectors are of zero length 50, you might need to change this to 300 if you use google's w2v\n",
    "    cnt_words=0 # num of words with a valid vector in the sentence/review\n",
    "    for word in sent:\n",
    "        if word in w2v_words:\n",
    "            vec=w2v_model.wv[word]\n",
    "            sent_vec+=vec\n",
    "            cnt_words+=1\n",
    "    if cnt_words !=0:\n",
    "        sent_vec/=cnt_words\n",
    "    sent_vectors_cv.append(sent_vec)\n",
    "sent_vectors_cv=np.array(sent_vectors_cv)\n",
    "print(sent_vectors_cv.shape)\n",
    "print(sent_vectors_cv[0])\n",
    "\n",
    "\n",
    "\n"
   ]
  },
  {
   "cell_type": "markdown",
   "metadata": {},
   "source": [
    "### Converting Test data text"
   ]
  },
  {
   "cell_type": "code",
   "execution_count": 38,
   "metadata": {},
   "outputs": [],
   "source": [
    "list_of_sentance_test=[]\n",
    "for sentance in X_test:\n",
    "    list_of_sentance_test.append(sentance.split())"
   ]
  },
  {
   "cell_type": "code",
   "execution_count": 40,
   "metadata": {},
   "outputs": [
    {
     "name": "stderr",
     "output_type": "stream",
     "text": [
      "100%|██████████| 247/247 [00:00<00:00, 20137.88it/s]"
     ]
    },
    {
     "name": "stdout",
     "output_type": "stream",
     "text": [
      "(247, 100)\n",
      "[ 7.83536234e-05  3.89189180e-03 -7.27060344e-03 -2.15411279e-03\n",
      "  8.30137916e-03  5.62399207e-03 -2.52100290e-03  5.65236155e-03\n",
      " -9.93496552e-03  4.91908286e-03 -5.51602338e-03 -6.05544914e-03\n",
      "  9.51438211e-03  2.37900252e-03  8.12024809e-03 -6.71391562e-03\n",
      "  4.96885227e-03  8.85918550e-03 -8.77169520e-03 -7.92200863e-03\n",
      " -5.79162408e-03 -4.11731284e-03 -2.84667639e-03 -9.88183543e-03\n",
      "  8.40388890e-03 -4.52940399e-03  8.00889451e-03  4.31074295e-03\n",
      " -7.46504264e-03  3.70534649e-03  6.53502205e-03 -7.17872847e-03\n",
      " -5.91283292e-03 -3.69684771e-03 -9.18917451e-03  1.42276217e-03\n",
      " -1.58137060e-04  3.21209757e-03  1.47992955e-03 -2.90918164e-03\n",
      " -4.93880641e-03  6.50327827e-04 -1.65359315e-03  6.90781604e-03\n",
      "  5.41578187e-03  4.50759055e-03  1.63053846e-04 -3.54888826e-03\n",
      " -3.54895624e-03 -7.93419196e-04  1.51727325e-03 -3.85237532e-03\n",
      " -7.00975396e-03 -7.97917135e-03 -9.17849876e-03 -5.00557106e-03\n",
      " -1.67751487e-03 -4.53766901e-03 -7.84900505e-03 -3.19100521e-03\n",
      "  5.21311071e-03 -4.04294906e-03  8.92975740e-03  1.98238809e-03\n",
      " -8.47791322e-03  1.09195262e-02  8.52667261e-03  7.04566017e-03\n",
      " -8.43898579e-03  8.16811714e-03  3.96860112e-03  6.31880155e-03\n",
      "  5.16932737e-03  2.82012671e-03 -1.05714402e-03  8.91656335e-03\n",
      "  9.96010099e-03  3.60528938e-03 -3.40491137e-03  4.16487426e-04\n",
      "  4.07027808e-04 -8.57184269e-03 -9.93686914e-03  1.04753359e-03\n",
      " -1.43165060e-04 -6.19494636e-03 -2.29888503e-03 -6.45899493e-03\n",
      "  9.86707956e-03  1.57660252e-04 -2.83036055e-03  7.08974851e-03\n",
      "  9.86484159e-03 -3.80413607e-03  9.65547934e-03  6.73566107e-03\n",
      "  6.14924403e-03 -1.40828692e-04  8.68805684e-03 -7.20613776e-03]\n"
     ]
    },
    {
     "name": "stderr",
     "output_type": "stream",
     "text": [
      "\n"
     ]
    }
   ],
   "source": [
    "# average Word2Vec\n",
    "# compute average word2vec for each review.\n",
    "sent_vectors_test = []; # the avg-w2v for each sentence/review is stored in this list\n",
    "for sent in tqdm(list_of_sentance_test): # for each review/sentence\n",
    "    sent_vec = np.zeros(100) # as word vectors are of zero length 50, you might need to change this to 300 if you use google's w2v\n",
    "    cnt_words =0; # num of words with a valid vector in the sentence/review\n",
    "    for word in sent: # for each word in a review/sentence\n",
    "        if word in w2v_words:\n",
    "            vec = w2v_model.wv[word]\n",
    "            sent_vec += vec\n",
    "            cnt_words += 1\n",
    "    if cnt_words != 0:\n",
    "        sent_vec /= cnt_words\n",
    "    sent_vectors_test.append(sent_vec)\n",
    "sent_vectors_test = np.array(sent_vectors_test)\n",
    "print(sent_vectors_test.shape)\n",
    "print(sent_vectors_test[0])"
   ]
  },
  {
   "cell_type": "code",
   "execution_count": 42,
   "metadata": {},
   "outputs": [
    {
     "data": {
      "image/png": "[encoded data removed]",
      "text/plain": [
       "<Figure size 432x288 with 1 Axes>"
      ]
     },
     "metadata": {
      "needs_background": "light"
     },
     "output_type": "display_data"
    }
   ],
   "source": [
    "train_auc=[]\n",
    "cv_auc=[]\n",
    "K=[1,5,10,15,21,31,41,51]\n",
    "for i in K:\n",
    "    neigh=KNeighborsClassifier(n_neighbors=i)\n",
    "    neigh.fit(sent_vectors_train,Y_train)\n",
    "    # roc_auc_score(y_true, y_score) the 2nd parameter should be probability estimates of the positive class\n",
    "    # not the predicted outputs\n",
    "    Y_train_pred=neigh.predict_proba(sent_vectors_train)[:,1]\n",
    "    Y_cv_pred=neigh.predict_proba(sent_vectors_cv)[:,1]\n",
    "    \n",
    "    train_auc.append(roc_auc_score(Y_train,Y_train_pred))\n",
    "    cv_auc.append(roc_auc_score(Y_cv,Y_cv_pred))\n",
    "    \n",
    "plt.plot(K,train_auc,label=\"Train AUC\")\n",
    "plt.scatter(K,train_auc,label=\"Train AUC\")\n",
    "plt.plot(K,cv_auc,label=\"CV AUC\")\n",
    "plt.scatter(K,cv_auc,label=\"CV AUC\")\n",
    "plt.legend()\n",
    "plt.xlabel(\"K: Hyperparameter\")\n",
    "plt.ylabel(\"AUC\")\n",
    "plt.title(\"Error Plots\")\n",
    "plt.show()\n",
    "    "
   ]
  },
  {
   "cell_type": "code",
   "execution_count": 48,
   "metadata": {},
   "outputs": [
    {
     "data": {
      "image/png": "[encoded data removed]",
      "text/plain": [
       "<Figure size 432x288 with 1 Axes>"
      ]
     },
     "metadata": {
      "needs_background": "light"
     },
     "output_type": "display_data"
    },
    {
     "name": "stdout",
     "output_type": "stream",
     "text": [
      "====================================================================================================\n",
      "Train confusion matrix\n",
      "[[126  33]\n",
      " [ 79  96]]\n",
      "Test confusion matrix\n",
      "[[86 30]\n",
      " [66 65]]\n",
      "====================================================================================================\n",
      "train Accuracy\n",
      "0.6646706586826348\n",
      "test Accuracy\n",
      "0.611336032388664\n"
     ]
    }
   ],
   "source": [
    "from sklearn.metrics import accuracy_score\n",
    "neigh=KNeighborsClassifier(n_neighbors=10)\n",
    "neigh.fit(sent_vectors_train,Y_train)\n",
    "# roc_auc_score(y_true, y_score) the 2nd parameter should be probability estimates of the positive class\n",
    "# not the predicted outputs\n",
    "train_fpr, train_tpr, thresholds = roc_curve(Y_train, neigh.predict_proba(sent_vectors_train)[:,1])\n",
    "test_fpr,test_tpr,thresholds=roc_curve(Y_test,neigh.predict_proba(sent_vectors_test)[:,1])\n",
    "\n",
    "plt.plot(train_fpr,train_tpr,label=\"Train AUC = \"+str(auc(train_fpr,train_tpr)))\n",
    "plt.plot(test_fpr,test_tpr,label=\"Test AUC = \"+str(auc(test_fpr,test_tpr)))\n",
    "plt.legend()\n",
    "plt.xlabel(\"K: hyperparameter\")\n",
    "plt.ylabel(\"AUC\")\n",
    "plt.title(\"ERROR PLOTS\")\n",
    "plt.show()\n",
    "print(\"=\"*100)\n",
    "\n",
    "from sklearn.metrics import confusion_matrix\n",
    "print(\"Train confusion matrix\")\n",
    "print(confusion_matrix(Y_train, neigh.predict(sent_vectors_train)))\n",
    "print(\"Test confusion matrix\")\n",
    "print(confusion_matrix(Y_test, neigh.predict(sent_vectors_test)))\n",
    "\n",
    "print(\"=\"*100)\n",
    "print(\"train Accuracy\")\n",
    "print(accuracy_score(Y_train,neigh.predict(sent_vectors_train)))\n",
    "print(\"test Accuracy\")\n",
    "print(accuracy_score(Y_test, neigh.predict(sent_vectors_test)))\n",
    "\n",
    "\n"
   ]
  },
  {
   "cell_type": "code",
   "execution_count": null,
   "metadata": {},
   "outputs": [],
   "source": []
  }
 ],
 "metadata": {
  "kernelspec": {
   "display_name": "Python 3",
   "language": "python",
   "name": "python3"
  },
  "language_info": {
   "codemirror_mode": {
    "name": "ipython",
    "version": 3
   },
   "file_extension": ".py",
   "mimetype": "text/x-python",
   "name": "python",
   "nbconvert_exporter": "python",
   "pygments_lexer": "ipython3",
   "version": "3.7.4"
  }
 },
 "nbformat": 4,
 "nbformat_minor": 2
}
